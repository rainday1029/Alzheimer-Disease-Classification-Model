{
 "cells": [
  {
   "cell_type": "code",
   "execution_count": null,
   "metadata": {},
   "outputs": [],
   "source": [
    "#題目:阿茲海默症分類模型+SHAP可視化分析\n",
    "#模型:CNN\n",
    "#學號:611415060、611415132\n",
    "#姓名:李政鴻、鄭庭安"
   ]
  },
  {
   "cell_type": "code",
   "execution_count": null,
   "metadata": {},
   "outputs": [],
   "source": [
    "#宣告使用的套件\n",
    "import tensorflow as tf\n",
    "import matplotlib.pyplot as plt\n",
    "import numpy as np\n",
    "import os\n",
    "from tensorflow import keras\n",
    "from keras import layers\n",
    "import matplotlib.image as img\n",
    "import splitfolders\n",
    "import shap\n",
    "from tqdm import tqdm\n",
    "import cv2\n",
    "import seaborn as sns\n",
    "from sklearn.utils import shuffle\n",
    "from sklearn.model_selection import train_test_split\n",
    "%matplotlib inline"
   ]
  },
  {
   "cell_type": "code",
   "execution_count": null,
   "metadata": {},
   "outputs": [],
   "source": [
    "#將資料集切割成80%、10%、10%\n",
    "splitfolders.ratio(\"C:/Users/dsp523/Downloads/Dataset\", output=\"output\", seed=1345, ratio=(.8, 0.1,0.1)) "
   ]
  },
  {
   "cell_type": "code",
   "execution_count": null,
   "metadata": {},
   "outputs": [],
   "source": [
    "#將資料集存成keras的形式\n",
    "IMG_HEIGHT = 128\n",
    "IMG_WIDTH = 128\n",
    "train_ds = tf.keras.preprocessing.image_dataset_from_directory(\n",
    "\"C:/Users/dsp523/Downloads/output/train\",\n",
    "seed=123,\n",
    "image_size=(IMG_HEIGHT, IMG_WIDTH),\n",
    "batch_size=64\n",
    ")\n",
    "\n",
    "test_ds = tf.keras.preprocessing.image_dataset_from_directory(\n",
    "\"C:/Users/dsp523/Downloads/output/test\",\n",
    "seed=123,\n",
    "image_size=(IMG_HEIGHT, IMG_WIDTH),\n",
    "batch_size=64\n",
    ")\n",
    "\n",
    "val_ds = tf.keras.preprocessing.image_dataset_from_directory(\n",
    "\"C:/Users/dsp523/Downloads/output/val\",\n",
    "seed=123,\n",
    "image_size=(IMG_HEIGHT, IMG_WIDTH),\n",
    "batch_size=64\n",
    ")"
   ]
  },
  {
   "cell_type": "code",
   "execution_count": null,
   "metadata": {},
   "outputs": [],
   "source": [
    "#顯示class的所有類別\n",
    "class_names = train_ds.class_names\n",
    "print(class_names)\n",
    "train_ds"
   ]
  },
  {
   "cell_type": "code",
   "execution_count": null,
   "metadata": {},
   "outputs": [],
   "source": [
    "#輸出訓練資料集的內容\n",
    "plt.figure(figsize=(10, 10))\n",
    "for images, labels in train_ds.take(1):\n",
    "    for i in range(9):\n",
    "        ax = plt.subplot(3, 3, i + 1)\n",
    "        plt.imshow(images[i].numpy().astype(\"uint8\"))\n",
    "        plt.title(class_names[labels[i]])\n",
    "        plt.axis(\"off\")"
   ]
  },
  {
   "cell_type": "code",
   "execution_count": null,
   "metadata": {},
   "outputs": [],
   "source": [
    "#繪製直方圖\n",
    "fig = plt.figure()\n",
    "ax = fig.add_axes([0,0,1,1])\n",
    "size = [896,64,3200,2240]\n",
    "ax.bar(class_names,size)\n",
    "plt.show"
   ]
  },
  {
   "cell_type": "code",
   "execution_count": null,
   "metadata": {},
   "outputs": [],
   "source": [
    "#建立cnn模型架構\n",
    "model = keras.models.Sequential()\n",
    "model.add(keras.layers.experimental.preprocessing.Rescaling(1./255, input_shape=(IMG_HEIGHT,IMG_WIDTH, 3)))\n",
    "model.add(keras.layers.Conv2D(filters=16,kernel_size=(3,3),padding='same',activation='relu',kernel_initializer=\"he_normal\"))\n",
    "model.add(keras.layers.MaxPooling2D(pool_size=(2,2)))\n",
    "\n",
    "\n",
    "model.add(keras.layers.Conv2D(filters=32,kernel_size=(3,3),padding='same',activation='relu',kernel_initializer=\"he_normal\"))\n",
    "model.add(keras.layers.MaxPooling2D(pool_size=(2,2)))\n",
    "\n",
    "model.add(keras.layers.Dropout(0.20))\n",
    "\n",
    "model.add(keras.layers.Conv2D(filters=64,kernel_size=(3,3),padding='same',activation='relu',kernel_initializer=\"he_normal\"))\n",
    "model.add(keras.layers.MaxPooling2D(pool_size=(2,2)))\n",
    "\n",
    "model.add(keras.layers.Dropout(0.25))\n",
    "model.add(keras.layers.Flatten())\n",
    "model.add(keras.layers.Dense(128,activation=\"relu\",kernel_initializer=\"he_normal\"))\n",
    "model.add(keras.layers.Dense(64,\"relu\"))\n",
    "model.add(keras.layers.Dense(4,\"softmax\"))"
   ]
  },
  {
   "cell_type": "code",
   "execution_count": null,
   "metadata": {},
   "outputs": [],
   "source": [
    "#編譯模型\n",
    "model.compile(loss=\"sparse_categorical_crossentropy\",\n",
    "              optimizer = \"Adam\",metrics=[\"accuracy\"])"
   ]
  },
  {
   "cell_type": "code",
   "execution_count": null,
   "metadata": {},
   "outputs": [],
   "source": [
    "#顯示模型資訊\n",
    "model.summary()"
   ]
  },
  {
   "cell_type": "code",
   "execution_count": null,
   "metadata": {},
   "outputs": [],
   "source": [
    "#訓練模型\n",
    "hist = model.fit(train_ds,validation_data=val_ds,epochs=100, batch_size=64, verbose=1)"
   ]
  },
  {
   "cell_type": "code",
   "execution_count": null,
   "metadata": {},
   "outputs": [],
   "source": [
    "#收集訓練時的資訊\n",
    "get_ac = hist.history['accuracy']\n",
    "get_los = hist.history['loss']\n",
    "val_acc = hist.history['val_accuracy']\n",
    "val_loss = hist.history['val_loss']"
   ]
  },
  {
   "cell_type": "code",
   "execution_count": null,
   "metadata": {},
   "outputs": [],
   "source": [
    "#繪製圖形\n",
    "epochs = range(len(get_ac))\n",
    "plt.plot(epochs, get_ac, 'g', label='Accuracy of Training data')\n",
    "plt.plot(epochs, get_los, 'r', label='Loss of Training data')\n",
    "plt.title('Training data accuracy and loss')\n",
    "plt.legend(loc=0)\n",
    "plt.figure()\n",
    "\n",
    "plt.plot(epochs, get_ac, 'g', label='Accuracy of Training Data')\n",
    "plt.plot(epochs, val_acc, 'r', label='Accuracy of Validation Data')\n",
    "plt.title('Training and Validation Accuracy')\n",
    "plt.legend(loc=0)\n",
    "plt.figure()\n",
    "\n",
    "plt.plot(epochs, get_los, 'g', label='Loss of Training Data')\n",
    "plt.plot(epochs, val_loss, 'r', label='Loss of Validation Data')\n",
    "plt.title('Training and Validation Loss')\n",
    "plt.legend(loc=0)\n",
    "plt.figure()\n",
    "plt.show()"
   ]
  },
  {
   "cell_type": "code",
   "execution_count": null,
   "metadata": {},
   "outputs": [],
   "source": [
    "#使用測試資料集評估模型，輸出loss以及accuracy\n",
    "loss, accuracy = model.evaluate(test_ds)"
   ]
  },
  {
   "cell_type": "code",
   "execution_count": null,
   "metadata": {},
   "outputs": [],
   "source": [
    "#輸出分類結果的圖片\n",
    "plt.figure(figsize=(20, 20))\n",
    "for images, labels in test_ds.take(1):\n",
    "    for i in range(16):\n",
    "        ax = plt.subplot(4, 4, i + 1)\n",
    "        plt.imshow(images[i].numpy().astype(\"uint8\"))\n",
    "        predictions = model.predict(tf.expand_dims(images[i], 0))\n",
    "        score = tf.nn.softmax(predictions[0])\n",
    "        if(class_names[labels[i]]==class_names[np.argmax(score)]):\n",
    "            plt.title(\"Actual: \"+class_names[labels[i]])\n",
    "            plt.ylabel(\"Predicted: \"+class_names[np.argmax(score)],fontdict={'color':'green'})\n",
    "            \n",
    "        else:\n",
    "            plt.title(\"Actual: \"+class_names[labels[i]])\n",
    "            plt.ylabel(\"Predicted: \"+class_names[np.argmax(score)],fontdict={'color':'red'})\n",
    "        plt.gca().axes.yaxis.set_ticklabels([])        \n",
    "        plt.gca().axes.xaxis.set_ticklabels([])"
   ]
  },
  {
   "cell_type": "code",
   "execution_count": null,
   "metadata": {},
   "outputs": [],
   "source": [
    "#定義顏色色碼\n",
    "colors_dark = [\"#1F1F1F\", \"#313131\", '#636363', '#AEAEAE', '#DADADA']\n",
    "colors_red = [\"#331313\", \"#582626\", '#9E1717', '#D35151', '#E9B4B4']\n",
    "colors_green = ['#01411C','#4B6F44','#4F7942','#74C365','#D0F0C0']\n",
    "\n",
    "sns.palplot(colors_dark)\n",
    "sns.palplot(colors_green)\n",
    "sns.palplot(colors_red)"
   ]
  },
  {
   "cell_type": "code",
   "execution_count": null,
   "metadata": {},
   "outputs": [],
   "source": [
    "#建立標籤\n",
    "labels = ['Mild_Demented','Moderate_Demented','Non_Demented','Very_Mild_Demented']"
   ]
  },
  {
   "cell_type": "code",
   "execution_count": null,
   "metadata": {},
   "outputs": [],
   "source": [
    "#將資料集切割成X_Y_形式\n",
    "X_train = []\n",
    "y_train = []\n",
    "image_size = 128\n",
    "for i in labels:\n",
    "    folderPath = os.path.join('C:/Users/dsp523/Downloads/output','train',i)\n",
    "    for j in tqdm(os.listdir(folderPath)):\n",
    "        img = cv2.imread(os.path.join(folderPath,j))\n",
    "        img = cv2.resize(img,(image_size, image_size))\n",
    "        X_train.append(img)\n",
    "        y_train.append(i)\n",
    "        \n",
    "for i in labels:\n",
    "    folderPath = os.path.join('C:/Users/dsp523/Downloads/output','test',i)\n",
    "    for j in tqdm(os.listdir(folderPath)):\n",
    "        img = cv2.imread(os.path.join(folderPath,j))\n",
    "        img = cv2.resize(img,(image_size,image_size))\n",
    "        X_train.append(img)\n",
    "        y_train.append(i)\n",
    "        \n",
    "X_train = np.array(X_train)\n",
    "y_train = np.array(y_train)"
   ]
  },
  {
   "cell_type": "code",
   "execution_count": null,
   "metadata": {},
   "outputs": [],
   "source": [
    "#輸出不同類別的圖形\n",
    "k=0\n",
    "fig, ax = plt.subplots(1,4,figsize=(20,20))\n",
    "fig.text(s='Sample Image From Each Label',size=18,fontweight='bold',\n",
    "             fontname='monospace',color=colors_dark[1],y=0.62,x=0.4,alpha=0.8)\n",
    "for i in labels:\n",
    "    j=0\n",
    "    while True :\n",
    "        if y_train[j]==i:\n",
    "            ax[k].imshow(X_train[j])\n",
    "            ax[k].set_title(y_train[j])\n",
    "            ax[k].axis('off')\n",
    "            k+=1\n",
    "            break\n",
    "        j+=1"
   ]
  },
  {
   "cell_type": "code",
   "execution_count": null,
   "metadata": {},
   "outputs": [],
   "source": [
    "#打亂資料集的順序\n",
    "X_train, y_train = shuffle(X_train,y_train, random_state=101)"
   ]
  },
  {
   "cell_type": "code",
   "execution_count": null,
   "metadata": {},
   "outputs": [],
   "source": [
    "#將資料集切割\n",
    "X_train,X_test,y_train,y_test = train_test_split(X_train,y_train, test_size=0.1,random_state=101)"
   ]
  },
  {
   "cell_type": "code",
   "execution_count": null,
   "metadata": {},
   "outputs": [],
   "source": [
    "#新的分類串列建立\n",
    "y_train_new = []\n",
    "for i in y_train:\n",
    "    y_train_new.append(labels.index(i))\n",
    "y_train = y_train_new\n",
    "y_train = tf.keras.utils.to_categorical(y_train)\n",
    "\n",
    "\n",
    "y_test_new = []\n",
    "for i in y_test:\n",
    "    y_test_new.append(labels.index(i))\n",
    "y_test = y_test_new\n",
    "y_test = tf.keras.utils.to_categorical(y_test)"
   ]
  },
  {
   "cell_type": "code",
   "execution_count": null,
   "metadata": {},
   "outputs": [],
   "source": [
    "#模型架構建立\n",
    "model = keras.models.Sequential()\n",
    "model.add(keras.layers.experimental.preprocessing.Rescaling(1./255, input_shape=(128,128, 3)))\n",
    "model.add(keras.layers.Conv2D(filters=16,kernel_size=(3,3),padding='same',activation='relu',kernel_initializer=\"he_normal\"))\n",
    "model.add(keras.layers.MaxPooling2D(pool_size=(2,2)))\n",
    "\n",
    "\n",
    "model.add(keras.layers.Conv2D(filters=32,kernel_size=(3,3),padding='same',activation='relu',kernel_initializer=\"he_normal\"))\n",
    "model.add(keras.layers.MaxPooling2D(pool_size=(2,2)))\n",
    "\n",
    "model.add(keras.layers.Dropout(0.20))\n",
    "\n",
    "model.add(keras.layers.Conv2D(filters=64,kernel_size=(3,3),padding='same',activation='relu',kernel_initializer=\"he_normal\"))\n",
    "model.add(keras.layers.MaxPooling2D(pool_size=(2,2)))\n",
    "\n",
    "model.add(keras.layers.Dropout(0.25))\n",
    "model.add(keras.layers.Flatten())\n",
    "model.add(keras.layers.Dense(128,activation=\"relu\",kernel_initializer=\"he_normal\"))\n",
    "model.add(keras.layers.Dense(64,\"relu\"))\n",
    "model.add(keras.layers.Dense(4,\"softmax\"))"
   ]
  },
  {
   "cell_type": "code",
   "execution_count": null,
   "metadata": {},
   "outputs": [],
   "source": [
    "#編譯模型\n",
    "model.compile(loss=\"sparse_categorical_crossentropy\",\n",
    "              optimizer = \"Adam\",metrics=[\"accuracy\"])"
   ]
  },
  {
   "cell_type": "code",
   "execution_count": null,
   "metadata": {},
   "outputs": [],
   "source": [
    "#輸出模型資訊\n",
    "model.summary()"
   ]
  },
  {
   "cell_type": "code",
   "execution_count": null,
   "metadata": {},
   "outputs": [],
   "source": [
    "#訓練模型\n",
    "history = model.fit(X_train,y_train,validation_split=0.1, epochs =100, verbose=1, batch_size=64)"
   ]
  },
  {
   "cell_type": "code",
   "execution_count": null,
   "metadata": {},
   "outputs": [],
   "source": [
    "#收集模型訓練時的資訊\n",
    "get_ac = history.history['accuracy']\n",
    "get_los = history.history['loss']\n",
    "val_acc = history.history['val_accuracy']\n",
    "val_loss = history.history['val_loss']"
   ]
  },
  {
   "cell_type": "code",
   "execution_count": null,
   "metadata": {},
   "outputs": [],
   "source": [
    "#輸出訓練資訊\n",
    "epochs = range(len(get_ac))\n",
    "plt.plot(epochs, get_ac, 'g', label='Accuracy of Training data')\n",
    "plt.plot(epochs, get_los, 'r', label='Loss of Training data')\n",
    "plt.title('Training data accuracy and loss')\n",
    "plt.legend(loc=0)\n",
    "plt.figure()\n",
    "\n",
    "plt.plot(epochs, get_ac, 'g', label='Accuracy of Training Data')\n",
    "plt.plot(epochs, val_acc, 'r', label='Accuracy of Validation Data')\n",
    "plt.title('Training and Validation Accuracy')\n",
    "plt.legend(loc=0)\n",
    "plt.figure()\n",
    "\n",
    "plt.plot(epochs, get_los, 'g', label='Loss of Training Data')\n",
    "plt.plot(epochs, val_loss, 'r', label='Loss of Validation Data')\n",
    "plt.title('Training and Validation Loss')\n",
    "plt.legend(loc=0)\n",
    "plt.figure()\n",
    "plt.show()"
   ]
  },
  {
   "cell_type": "code",
   "execution_count": null,
   "metadata": {},
   "outputs": [],
   "source": [
    "#分類圖片\n",
    "pred = model.predict(X_test)\n",
    "pred = np.argmax(pred,axis=1)\n",
    "y_test_new = np.argmax(y_test,axis=1)"
   ]
  },
  {
   "cell_type": "code",
   "execution_count": null,
   "metadata": {},
   "outputs": [],
   "source": [
    "#輸出混淆矩陣\n",
    "fig,ax=plt.subplots(1,1,figsize=(14,7))\n",
    "sns.heatmap(confusion_matrix(y_test_new,pred),ax=ax,xticklabels=labels,yticklabels=labels,annot=True,\n",
    "           cmap=colors_green[::-1],alpha=0.7,linewidths=2,linecolor=colors_dark[3])\n",
    "fig.text(s='Confusion Matrix',size=18,fontweight='bold',\n",
    "             fontname='monospace',color=colors_dark[1],y=0.92,x=0.28,alpha=0.8)\n",
    "\n",
    "plt.show()"
   ]
  },
  {
   "cell_type": "code",
   "execution_count": null,
   "metadata": {},
   "outputs": [],
   "source": [
    "#輸出模型各種資訊以及混淆矩陣\n",
    "from sklearn.metrics import accuracy_score, confusion_matrix, classification_report\n",
    "\n",
    "print(\"Test Accuracy : {}\".format(accuracy_score(y_test_new,pred)))\n",
    "print(\"\\nConfusion Matrix : \")\n",
    "print(confusion_matrix(y_test_new, pred))\n",
    "print(\"\\nClassification Report :\")\n",
    "print(classification_report(y_test_new, pred, target_names= labels))"
   ]
  },
  {
   "cell_type": "code",
   "execution_count": null,
   "metadata": {},
   "outputs": [],
   "source": [
    "#設定SHAP套件\n",
    "masker = shap.maskers.Image(\"inpaint_telea\", X_train[0].shape)\n",
    "\n",
    "explainer = shap.Explainer(model, masker, output_names=labels)\n",
    "\n",
    "explainer"
   ]
  },
  {
   "cell_type": "code",
   "execution_count": null,
   "metadata": {},
   "outputs": [],
   "source": [
    "#利用shap套件解釋4張模型分類圖片的結果\n",
    "shap_values = explainer(X_test[:4], outputs=shap.Explanation.argsort.flip[:5])\n",
    "\n",
    "shap_values.shape"
   ]
  },
  {
   "cell_type": "code",
   "execution_count": null,
   "metadata": {},
   "outputs": [],
   "source": [
    "#使解釋可視化\n",
    "shap.image_plot(shap_values)"
   ]
  },
  {
   "cell_type": "code",
   "execution_count": null,
   "metadata": {},
   "outputs": [],
   "source": [
    "#一次解釋一張\n",
    "shap_values = explainer(X_test[59:60], max_evals=1600, outputs=shap.Explanation.argsort.flip[:5])\n",
    "\n",
    "shap_values.shape"
   ]
  },
  {
   "cell_type": "code",
   "execution_count": null,
   "metadata": {},
   "outputs": [],
   "source": [
    "Y_preds = model.predict(X_test[59:60])\n",
    "\n",
    "Y_preds = Y_preds.argsort()[:, ::-1]\n",
    "Y_labels = [[labels[val] for val in row] for row in Y_preds]\n",
    "Y_labels=np.array(Y_labels)\n",
    "\n",
    "Y_labels"
   ]
  },
  {
   "cell_type": "code",
   "execution_count": null,
   "metadata": {},
   "outputs": [],
   "source": [
    "shap.image_plot(shap_values, labels=Y_labels)"
   ]
  },
  {
   "cell_type": "code",
   "execution_count": null,
   "metadata": {},
   "outputs": [],
   "source": [
    "#僅輸出普通圖片，以及標籤\n",
    "plt.imshow(X_test[1])\n",
    "print(labels)\n",
    "print(y_test[4])\n",
    "# 1:1.2:4.4:3,574:2."
   ]
  }
 ],
 "metadata": {
  "kernelspec": {
   "display_name": "tensorflow3.7",
   "language": "python",
   "name": "python3"
  },
  "language_info": {
   "name": "python",
   "version": "3.7.0 (default, Jun 28 2018, 08:04:48) [MSC v.1912 64 bit (AMD64)]"
  },
  "orig_nbformat": 4,
  "vscode": {
   "interpreter": {
    "hash": "7a68dfd3cd80131a055a79e87f1412ac5f7bd43f29be19d36f2b51ed4c3bf205"
   }
  }
 },
 "nbformat": 4,
 "nbformat_minor": 2
}
